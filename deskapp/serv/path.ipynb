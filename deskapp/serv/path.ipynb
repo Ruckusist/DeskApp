{
 "cells": [
  {
   "cell_type": "code",
   "execution_count": 1,
   "metadata": {},
   "outputs": [],
   "source": [
    "from queue import PriorityQueue"
   ]
  },
  {
   "cell_type": "code",
   "execution_count": 2,
   "metadata": {},
   "outputs": [],
   "source": [
    "map_size = (15,15)\n",
    "start_coords = (5,5)\n",
    "end_coords = (13,9)\n",
    "obsticles = [(9,1), (9,2), (9,3), (9,4), (9,5), (9,6),\n",
    "             (9,7) ,(9,8), (9,9), (9,10), (9,11), (9,12)]"
   ]
  },
  {
   "cell_type": "code",
   "execution_count": 3,
   "metadata": {},
   "outputs": [],
   "source": [
    "def check_tile(coords):\n",
    "    global obsticles\n",
    "    global map_size\n",
    "    if coords[0] < 0 or coords[1] < 0:\n",
    "        return False\n",
    "\n",
    "    if coords[0] >= map_size[0] or coords[1] >= map_size[1]:\n",
    "        return False\n",
    "    \n",
    "    if coords in obsticles:\n",
    "        return False\n",
    "    return True\n"
   ]
  },
  {
   "cell_type": "code",
   "execution_count": 4,
   "metadata": {},
   "outputs": [],
   "source": [
    "def neighbors(coords):\n",
    "    UP    = (coords[0]+1, coords[1]  )\n",
    "    DOWN  = (coords[0]-1, coords[1]  )\n",
    "    LEFT  = (coords[0],   coords[1]-1)\n",
    "    RIGHT = (coords[0],   coords[1]+1)\n",
    "    newlist = []\n",
    "    for coord in [UP, RIGHT, DOWN, LEFT]:\n",
    "        if check_tile(coord): newlist.append(coord)\n",
    "    return newlist"
   ]
  },
  {
   "cell_type": "code",
   "execution_count": 5,
   "metadata": {},
   "outputs": [],
   "source": [
    "def heuristic(start, fin):\n",
    "    return abs(start[0] - fin[0]) + abs(start[1] - fin[1])"
   ]
  },
  {
   "cell_type": "code",
   "execution_count": 6,
   "metadata": {},
   "outputs": [],
   "source": [
    "def print_grid(grid):\n",
    "    for line in grid:\n",
    "        print(''.join([f\"{str(x):>4s}\" for x in line]))"
   ]
  },
  {
   "cell_type": "code",
   "execution_count": 7,
   "metadata": {},
   "outputs": [],
   "source": [
    "grid = [['.' for _ in range(map_size[0])] for _ in range(map_size[1])]\n",
    "for ob in obsticles:\n",
    "        grid[ob[0]][ob[1]] = '#'"
   ]
  },
  {
   "cell_type": "code",
   "execution_count": 8,
   "metadata": {},
   "outputs": [],
   "source": [
    "edge = PriorityQueue()\n",
    "edge.put((0, start_coords))\n",
    "came_from = dict()\n",
    "cost_so_far = dict()\n",
    "came_from[start_coords] = None\n",
    "cost_so_far[start_coords] = 0"
   ]
  },
  {
   "cell_type": "code",
   "execution_count": 9,
   "metadata": {},
   "outputs": [
    {
     "name": "stdout",
     "output_type": "stream",
     "text": [
      "   .   .   .   .   .   .   .   .   .   .   .   .   .   .   .\n",
      "   .   .   .   .   .  20  20  20  20  20   .   .   .   .   .\n",
      "   .   .   .   .  20  18  18  18  18  18  20   .   .   .   .\n",
      "   .   .   .  20  18  16  16  16  16  16  18  20   .   .   .\n",
      "   .   .  20  18  16  14  14  14  14  14  16  18  20   .   .\n",
      "   .  20  18  16  14   0  12  12  12  12  14  16  18  20   .\n",
      "   .  20  18  16  14  12  12  12  12  12  14  16  18  20   .\n",
      "   .  20  18  16  14  12  12  12  12  12  14  16  18  20   .\n",
      "   .  20  18  16  14  12  12  12  12  12  14  16  18  20   .\n",
      "   .   #   #   #   #   #   #   #   #   #   #   #   #  20   .\n",
      "   .   .   .   .   .   .   .   .   .  20  20  20  20  20   .\n",
      "   .   .   .   .   .   .   .   .   .  20  20  20  20  20   .\n",
      "   .   .   .   .   .   .   .   .   .  20  20  20  20  20   .\n",
      "   .   .   .   .   .   .   .   .   .  20   .   .   .   .   .\n",
      "   .   .   .   .   .   .   .   .   .   .   .   .   .   .   .\n"
     ]
    }
   ],
   "source": [
    "while not edge.empty():\n",
    "    x, current = edge.get()\n",
    "    grid[current[0]][current[1]] = x  # cost_so_far[current]\n",
    "    if current == end_coords:\n",
    "        break\n",
    "    for next in neighbors(current):\n",
    "        new_cost = cost_so_far[current] +1  # RIGHT HERE!! ADVENT!\n",
    "        if next not in cost_so_far or new_cost < cost_so_far[next]:\n",
    "        # if next not in came_from:\n",
    "            cost_so_far[next] = new_cost\n",
    "            # priority = new_cost\n",
    "            priority = heuristic(end_coords, next) + new_cost\n",
    "            edge.put((priority, next))\n",
    "            came_from[next] = current\n",
    "print_grid(grid)\n",
    "        "
   ]
  },
  {
   "cell_type": "code",
   "execution_count": 11,
   "metadata": {},
   "outputs": [
    {
     "name": "stdout",
     "output_type": "stream",
     "text": [
      "   .   .   .   .   .   .   .   .   .   .   .   .   .   .   .\n",
      "   .   .   .   .   .  20  20  20  20  20   .   .   .   .   .\n",
      "   .   .   .   .  20  18  18  18  18  18  20   .   .   .   .\n",
      "   .   .   .  20  18  16  16  16  16  16  18  20   .   .   .\n",
      "   .   .  20  18  16  14  14  14  14  14  16  18  20   .   .\n",
      "   .  20  18  16  14   X   x   x   x   x  14  16  18  20   .\n",
      "   .  20  18  16  14  12  12  12  12   x  14  16  18  20   .\n",
      "   .  20  18  16  14  12  12  12  12   x  14  16  18  20   .\n",
      "   .  20  18  16  14  12  12  12  12   x   x   x   x   x   .\n",
      "   .   #   #   #   #   #   #   #   #   #   #   #   #   x   .\n",
      "   .   .   .   .   .   .   .   .   .   x   x   x   x   x   .\n",
      "   .   .   .   .   .   .   .   .   .   x  20  20  20  20   .\n",
      "   .   .   .   .   .   .   .   .   .   x  20  20  20  20   .\n",
      "   .   .   .   .   .   .   .   .   .   O   .   .   .   .   .\n",
      "   .   .   .   .   .   .   .   .   .   .   .   .   .   .   .\n"
     ]
    }
   ],
   "source": [
    "\n",
    "prev = came_from[end_coords]\n",
    "thepath = [end_coords, prev]\n",
    "while True:\n",
    "    prev = came_from[prev]\n",
    "    if prev:\n",
    "        thepath.append(prev)\n",
    "    else: break\n",
    "for coord in thepath:\n",
    "    grid[coord[0]][coord[1]] = \"x\"\n",
    "grid[start_coords[0]][start_coords[1]] = 'X'\n",
    "grid[end_coords[0]][end_coords[1]] = 'O'\n",
    "print_grid(grid)"
   ]
  },
  {
   "cell_type": "code",
   "execution_count": null,
   "metadata": {},
   "outputs": [],
   "source": []
  }
 ],
 "metadata": {
  "interpreter": {
   "hash": "31f2aee4e71d21fbe5cf8b01ff0e069b9275f58929596ceb00d14d90e3e16cd6"
  },
  "kernelspec": {
   "display_name": "Python 3.9.7 64-bit",
   "language": "python",
   "name": "python3"
  },
  "language_info": {
   "codemirror_mode": {
    "name": "ipython",
    "version": 3
   },
   "file_extension": ".py",
   "mimetype": "text/x-python",
   "name": "python",
   "nbconvert_exporter": "python",
   "pygments_lexer": "ipython3",
   "version": "3.11.5"
  },
  "orig_nbformat": 4
 },
 "nbformat": 4,
 "nbformat_minor": 2
}
